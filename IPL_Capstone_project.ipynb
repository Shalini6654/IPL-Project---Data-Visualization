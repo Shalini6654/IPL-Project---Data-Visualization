{
 "cells": [
  {
   "cell_type": "markdown",
   "id": "8a0cf94e-a1b4-4aa4-8ebe-ecc8ad11090c",
   "metadata": {},
   "source": [
    "## IPL 2022 Capstone Project"
   ]
  },
  {
   "cell_type": "markdown",
   "id": "c50f65db-e5d1-4588-8132-c140cdfc9c85",
   "metadata": {},
   "source": [
    "The Indian Premier League (IPL) is a professional T20 cricket league in India, featuring franchises representing cities. This project explores IPL 2022 match-level data to derive meaningful insights and understand match outcomes, player performances, and team dynamics.\n",
    "\n",
    "These are some of the important columns that we'll focus on for meaningful insights in this project."
   ]
  },
  {
   "cell_type": "markdown",
   "id": "e5f35515-1412-4778-8224-bba4f83e8681",
   "metadata": {},
   "source": [
    "## Loading the Libraries and Dataset"
   ]
  },
  {
   "cell_type": "code",
   "execution_count": 2,
   "id": "e3763b67-85f1-4d98-915c-8655a26b173d",
   "metadata": {
    "scrolled": true
   },
   "outputs": [
    {
     "data": {
      "text/html": [
       "<div>\n",
       "<style scoped>\n",
       "    .dataframe tbody tr th:only-of-type {\n",
       "        vertical-align: middle;\n",
       "    }\n",
       "\n",
       "    .dataframe tbody tr th {\n",
       "        vertical-align: top;\n",
       "    }\n",
       "\n",
       "    .dataframe thead th {\n",
       "        text-align: right;\n",
       "    }\n",
       "</style>\n",
       "<table border=\"1\" class=\"dataframe\">\n",
       "  <thead>\n",
       "    <tr style=\"text-align: right;\">\n",
       "      <th></th>\n",
       "      <th>match_id</th>\n",
       "      <th>date</th>\n",
       "      <th>venue</th>\n",
       "      <th>team1</th>\n",
       "      <th>team2</th>\n",
       "      <th>stage</th>\n",
       "      <th>toss_winner</th>\n",
       "      <th>toss_decision</th>\n",
       "      <th>first_ings_score</th>\n",
       "      <th>first_ings_wkts</th>\n",
       "      <th>second_ings_score</th>\n",
       "      <th>second_ings_wkts</th>\n",
       "      <th>match_winner</th>\n",
       "      <th>won_by</th>\n",
       "      <th>margin</th>\n",
       "      <th>player_of_the_match</th>\n",
       "      <th>top_scorer</th>\n",
       "      <th>highscore</th>\n",
       "      <th>best_bowling</th>\n",
       "      <th>best_bowling_figure</th>\n",
       "    </tr>\n",
       "  </thead>\n",
       "  <tbody>\n",
       "    <tr>\n",
       "      <th>0</th>\n",
       "      <td>1</td>\n",
       "      <td>March 26,2022</td>\n",
       "      <td>Wankhede Stadium, Mumbai</td>\n",
       "      <td>Chennai</td>\n",
       "      <td>Kolkata</td>\n",
       "      <td>Group</td>\n",
       "      <td>Kolkata</td>\n",
       "      <td>Field</td>\n",
       "      <td>131</td>\n",
       "      <td>5</td>\n",
       "      <td>133</td>\n",
       "      <td>4</td>\n",
       "      <td>Kolkata</td>\n",
       "      <td>Wickets</td>\n",
       "      <td>6</td>\n",
       "      <td>Umesh Yadav</td>\n",
       "      <td>MS Dhoni</td>\n",
       "      <td>50</td>\n",
       "      <td>Dwayne Bravo</td>\n",
       "      <td>3--20</td>\n",
       "    </tr>\n",
       "    <tr>\n",
       "      <th>1</th>\n",
       "      <td>2</td>\n",
       "      <td>March 27,2022</td>\n",
       "      <td>Brabourne Stadium, Mumbai</td>\n",
       "      <td>Delhi</td>\n",
       "      <td>Mumbai</td>\n",
       "      <td>Group</td>\n",
       "      <td>Delhi</td>\n",
       "      <td>Field</td>\n",
       "      <td>177</td>\n",
       "      <td>5</td>\n",
       "      <td>179</td>\n",
       "      <td>6</td>\n",
       "      <td>Delhi</td>\n",
       "      <td>Wickets</td>\n",
       "      <td>4</td>\n",
       "      <td>Kuldeep Yadav</td>\n",
       "      <td>Ishan Kishan</td>\n",
       "      <td>81</td>\n",
       "      <td>Kuldeep Yadav</td>\n",
       "      <td>3--18</td>\n",
       "    </tr>\n",
       "    <tr>\n",
       "      <th>2</th>\n",
       "      <td>3</td>\n",
       "      <td>March 27,2022</td>\n",
       "      <td>Dr DY Patil Sports Academy, Mumbai</td>\n",
       "      <td>Banglore</td>\n",
       "      <td>Punjab</td>\n",
       "      <td>Group</td>\n",
       "      <td>Punjab</td>\n",
       "      <td>Field</td>\n",
       "      <td>205</td>\n",
       "      <td>2</td>\n",
       "      <td>208</td>\n",
       "      <td>5</td>\n",
       "      <td>Punjab</td>\n",
       "      <td>Wickets</td>\n",
       "      <td>5</td>\n",
       "      <td>Odean Smith</td>\n",
       "      <td>Faf du Plessis</td>\n",
       "      <td>88</td>\n",
       "      <td>Mohammed Siraj</td>\n",
       "      <td>2--59</td>\n",
       "    </tr>\n",
       "    <tr>\n",
       "      <th>3</th>\n",
       "      <td>4</td>\n",
       "      <td>March 28,2022</td>\n",
       "      <td>Wankhede Stadium, Mumbai</td>\n",
       "      <td>Gujarat</td>\n",
       "      <td>Lucknow</td>\n",
       "      <td>Group</td>\n",
       "      <td>Gujarat</td>\n",
       "      <td>Field</td>\n",
       "      <td>158</td>\n",
       "      <td>6</td>\n",
       "      <td>161</td>\n",
       "      <td>5</td>\n",
       "      <td>Gujarat</td>\n",
       "      <td>Wickets</td>\n",
       "      <td>5</td>\n",
       "      <td>Mohammed Shami</td>\n",
       "      <td>Deepak Hooda</td>\n",
       "      <td>55</td>\n",
       "      <td>Mohammed Shami</td>\n",
       "      <td>3--25</td>\n",
       "    </tr>\n",
       "    <tr>\n",
       "      <th>4</th>\n",
       "      <td>5</td>\n",
       "      <td>March 29,2022</td>\n",
       "      <td>Maharashtra Cricket Association Stadium,Pune</td>\n",
       "      <td>Hyderabad</td>\n",
       "      <td>Rajasthan</td>\n",
       "      <td>Group</td>\n",
       "      <td>Hyderabad</td>\n",
       "      <td>Field</td>\n",
       "      <td>210</td>\n",
       "      <td>6</td>\n",
       "      <td>149</td>\n",
       "      <td>7</td>\n",
       "      <td>Rajasthan</td>\n",
       "      <td>Runs</td>\n",
       "      <td>61</td>\n",
       "      <td>Sanju Samson</td>\n",
       "      <td>Aiden Markram</td>\n",
       "      <td>57</td>\n",
       "      <td>Yuzvendra Chahal</td>\n",
       "      <td>3--22</td>\n",
       "    </tr>\n",
       "  </tbody>\n",
       "</table>\n",
       "</div>"
      ],
      "text/plain": [
       "   match_id           date                                         venue  \\\n",
       "0         1  March 26,2022                      Wankhede Stadium, Mumbai   \n",
       "1         2  March 27,2022                     Brabourne Stadium, Mumbai   \n",
       "2         3  March 27,2022            Dr DY Patil Sports Academy, Mumbai   \n",
       "3         4  March 28,2022                      Wankhede Stadium, Mumbai   \n",
       "4         5  March 29,2022  Maharashtra Cricket Association Stadium,Pune   \n",
       "\n",
       "       team1      team2  stage toss_winner toss_decision  first_ings_score  \\\n",
       "0    Chennai    Kolkata  Group     Kolkata         Field               131   \n",
       "1      Delhi     Mumbai  Group       Delhi         Field               177   \n",
       "2   Banglore     Punjab  Group      Punjab         Field               205   \n",
       "3    Gujarat    Lucknow  Group     Gujarat         Field               158   \n",
       "4  Hyderabad  Rajasthan  Group   Hyderabad         Field               210   \n",
       "\n",
       "   first_ings_wkts  second_ings_score  second_ings_wkts match_winner   won_by  \\\n",
       "0                5                133                 4      Kolkata  Wickets   \n",
       "1                5                179                 6        Delhi  Wickets   \n",
       "2                2                208                 5       Punjab  Wickets   \n",
       "3                6                161                 5      Gujarat  Wickets   \n",
       "4                6                149                 7    Rajasthan     Runs   \n",
       "\n",
       "   margin player_of_the_match      top_scorer  highscore      best_bowling  \\\n",
       "0       6         Umesh Yadav        MS Dhoni         50      Dwayne Bravo   \n",
       "1       4       Kuldeep Yadav    Ishan Kishan         81     Kuldeep Yadav   \n",
       "2       5         Odean Smith  Faf du Plessis         88    Mohammed Siraj   \n",
       "3       5      Mohammed Shami    Deepak Hooda         55    Mohammed Shami   \n",
       "4      61        Sanju Samson   Aiden Markram         57  Yuzvendra Chahal   \n",
       "\n",
       "  best_bowling_figure  \n",
       "0               3--20  \n",
       "1               3--18  \n",
       "2               2--59  \n",
       "3               3--25  \n",
       "4               3--22  "
      ]
     },
     "execution_count": 2,
     "metadata": {},
     "output_type": "execute_result"
    }
   ],
   "source": [
    "import matplotlib.pyplot as plt\n",
    "import numpy as np\n",
    "import pandas as pd\n",
    "import seaborn as sns\n",
    "import warnings\n",
    "warnings.filterwarnings(\"ignore\")\n",
    "\n",
    "df = pd.read_csv(\"IPL.csv\")\n",
    "df.head()"
   ]
  },
  {
   "cell_type": "markdown",
   "id": "a44d7a7f-c537-4e72-ac48-ed114ba4e750",
   "metadata": {},
   "source": [
    "## Basic Information"
   ]
  },
  {
   "cell_type": "code",
   "execution_count": 3,
   "id": "19b92792-daa1-42e6-bd60-f9e3a1f9e765",
   "metadata": {},
   "outputs": [
    {
     "name": "stdout",
     "output_type": "stream",
     "text": [
      "<class 'pandas.core.frame.DataFrame'>\n",
      "RangeIndex: 74 entries, 0 to 73\n",
      "Data columns (total 20 columns):\n",
      " #   Column               Non-Null Count  Dtype \n",
      "---  ------               --------------  ----- \n",
      " 0   match_id             74 non-null     int64 \n",
      " 1   date                 74 non-null     object\n",
      " 2   venue                74 non-null     object\n",
      " 3   team1                74 non-null     object\n",
      " 4   team2                74 non-null     object\n",
      " 5   stage                74 non-null     object\n",
      " 6   toss_winner          74 non-null     object\n",
      " 7   toss_decision        74 non-null     object\n",
      " 8   first_ings_score     74 non-null     int64 \n",
      " 9   first_ings_wkts      74 non-null     int64 \n",
      " 10  second_ings_score    74 non-null     int64 \n",
      " 11  second_ings_wkts     74 non-null     int64 \n",
      " 12  match_winner         74 non-null     object\n",
      " 13  won_by               74 non-null     object\n",
      " 14  margin               74 non-null     int64 \n",
      " 15  player_of_the_match  74 non-null     object\n",
      " 16  top_scorer           74 non-null     object\n",
      " 17  highscore            74 non-null     int64 \n",
      " 18  best_bowling         74 non-null     object\n",
      " 19  best_bowling_figure  74 non-null     object\n",
      "dtypes: int64(7), object(13)\n",
      "memory usage: 11.7+ KB\n"
     ]
    }
   ],
   "source": [
    "df.info()"
   ]
  },
  {
   "cell_type": "code",
   "execution_count": 4,
   "id": "92dcc42b-9e87-44fd-a3ce-cf8bde165cf3",
   "metadata": {},
   "outputs": [
    {
     "data": {
      "text/html": [
       "<div>\n",
       "<style scoped>\n",
       "    .dataframe tbody tr th:only-of-type {\n",
       "        vertical-align: middle;\n",
       "    }\n",
       "\n",
       "    .dataframe tbody tr th {\n",
       "        vertical-align: top;\n",
       "    }\n",
       "\n",
       "    .dataframe thead th {\n",
       "        text-align: right;\n",
       "    }\n",
       "</style>\n",
       "<table border=\"1\" class=\"dataframe\">\n",
       "  <thead>\n",
       "    <tr style=\"text-align: right;\">\n",
       "      <th></th>\n",
       "      <th>match_id</th>\n",
       "      <th>first_ings_score</th>\n",
       "      <th>first_ings_wkts</th>\n",
       "      <th>second_ings_score</th>\n",
       "      <th>second_ings_wkts</th>\n",
       "      <th>margin</th>\n",
       "      <th>highscore</th>\n",
       "    </tr>\n",
       "  </thead>\n",
       "  <tbody>\n",
       "    <tr>\n",
       "      <th>count</th>\n",
       "      <td>74.000000</td>\n",
       "      <td>74.000000</td>\n",
       "      <td>74.000000</td>\n",
       "      <td>74.000000</td>\n",
       "      <td>74.000000</td>\n",
       "      <td>74.000000</td>\n",
       "      <td>74.000000</td>\n",
       "    </tr>\n",
       "    <tr>\n",
       "      <th>mean</th>\n",
       "      <td>37.500000</td>\n",
       "      <td>171.121622</td>\n",
       "      <td>6.135135</td>\n",
       "      <td>158.540541</td>\n",
       "      <td>6.175676</td>\n",
       "      <td>16.972973</td>\n",
       "      <td>71.716216</td>\n",
       "    </tr>\n",
       "    <tr>\n",
       "      <th>std</th>\n",
       "      <td>21.505813</td>\n",
       "      <td>29.048355</td>\n",
       "      <td>2.222699</td>\n",
       "      <td>29.299207</td>\n",
       "      <td>2.639832</td>\n",
       "      <td>19.651047</td>\n",
       "      <td>20.705052</td>\n",
       "    </tr>\n",
       "    <tr>\n",
       "      <th>min</th>\n",
       "      <td>1.000000</td>\n",
       "      <td>68.000000</td>\n",
       "      <td>0.000000</td>\n",
       "      <td>72.000000</td>\n",
       "      <td>1.000000</td>\n",
       "      <td>2.000000</td>\n",
       "      <td>28.000000</td>\n",
       "    </tr>\n",
       "    <tr>\n",
       "      <th>25%</th>\n",
       "      <td>19.250000</td>\n",
       "      <td>154.250000</td>\n",
       "      <td>5.000000</td>\n",
       "      <td>142.750000</td>\n",
       "      <td>4.000000</td>\n",
       "      <td>5.250000</td>\n",
       "      <td>57.000000</td>\n",
       "    </tr>\n",
       "    <tr>\n",
       "      <th>50%</th>\n",
       "      <td>37.500000</td>\n",
       "      <td>169.500000</td>\n",
       "      <td>6.000000</td>\n",
       "      <td>160.000000</td>\n",
       "      <td>6.000000</td>\n",
       "      <td>8.000000</td>\n",
       "      <td>68.000000</td>\n",
       "    </tr>\n",
       "    <tr>\n",
       "      <th>75%</th>\n",
       "      <td>55.750000</td>\n",
       "      <td>192.750000</td>\n",
       "      <td>8.000000</td>\n",
       "      <td>176.000000</td>\n",
       "      <td>8.000000</td>\n",
       "      <td>18.000000</td>\n",
       "      <td>87.750000</td>\n",
       "    </tr>\n",
       "    <tr>\n",
       "      <th>max</th>\n",
       "      <td>74.000000</td>\n",
       "      <td>222.000000</td>\n",
       "      <td>10.000000</td>\n",
       "      <td>211.000000</td>\n",
       "      <td>10.000000</td>\n",
       "      <td>91.000000</td>\n",
       "      <td>140.000000</td>\n",
       "    </tr>\n",
       "  </tbody>\n",
       "</table>\n",
       "</div>"
      ],
      "text/plain": [
       "        match_id  first_ings_score  first_ings_wkts  second_ings_score  \\\n",
       "count  74.000000         74.000000        74.000000          74.000000   \n",
       "mean   37.500000        171.121622         6.135135         158.540541   \n",
       "std    21.505813         29.048355         2.222699          29.299207   \n",
       "min     1.000000         68.000000         0.000000          72.000000   \n",
       "25%    19.250000        154.250000         5.000000         142.750000   \n",
       "50%    37.500000        169.500000         6.000000         160.000000   \n",
       "75%    55.750000        192.750000         8.000000         176.000000   \n",
       "max    74.000000        222.000000        10.000000         211.000000   \n",
       "\n",
       "       second_ings_wkts     margin   highscore  \n",
       "count         74.000000  74.000000   74.000000  \n",
       "mean           6.175676  16.972973   71.716216  \n",
       "std            2.639832  19.651047   20.705052  \n",
       "min            1.000000   2.000000   28.000000  \n",
       "25%            4.000000   5.250000   57.000000  \n",
       "50%            6.000000   8.000000   68.000000  \n",
       "75%            8.000000  18.000000   87.750000  \n",
       "max           10.000000  91.000000  140.000000  "
      ]
     },
     "execution_count": 4,
     "metadata": {},
     "output_type": "execute_result"
    }
   ],
   "source": [
    "df.describe()"
   ]
  },
  {
   "cell_type": "code",
   "execution_count": 5,
   "id": "22a9f925-9838-4e03-83a9-4d865ce8e120",
   "metadata": {},
   "outputs": [
    {
     "data": {
      "text/plain": [
       "Index(['match_id', 'date', 'venue', 'team1', 'team2', 'stage', 'toss_winner',\n",
       "       'toss_decision', 'first_ings_score', 'first_ings_wkts',\n",
       "       'second_ings_score', 'second_ings_wkts', 'match_winner', 'won_by',\n",
       "       'margin', 'player_of_the_match', 'top_scorer', 'highscore',\n",
       "       'best_bowling', 'best_bowling_figure'],\n",
       "      dtype='object')"
      ]
     },
     "execution_count": 5,
     "metadata": {},
     "output_type": "execute_result"
    }
   ],
   "source": [
    "df.columns"
   ]
  },
  {
   "cell_type": "markdown",
   "id": "4a0ef22e-1f7e-4baf-8893-316e827648a8",
   "metadata": {},
   "source": [
    "Check the size of rows and columns of the dataset."
   ]
  },
  {
   "cell_type": "code",
   "execution_count": 6,
   "id": "2b076bbd-2364-4007-ac83-ebd04875b08c",
   "metadata": {},
   "outputs": [
    {
     "name": "stdout",
     "output_type": "stream",
     "text": [
      "your rows are 74 and your columns are 20\n"
     ]
    }
   ],
   "source": [
    "print(f\"your rows are {df.shape[0]} and your columns are {df.shape[1]}\")"
   ]
  },
  {
   "cell_type": "markdown",
   "id": "822d220a-3247-46f6-90ad-5d63d8d8d9b4",
   "metadata": {},
   "source": [
    "Now let's see how many columns have null values in total."
   ]
  },
  {
   "cell_type": "code",
   "execution_count": 7,
   "id": "06e640aa-3c24-4eff-88a9-16a8aba4bd66",
   "metadata": {},
   "outputs": [
    {
     "data": {
      "text/plain": [
       "match_id               0\n",
       "date                   0\n",
       "venue                  0\n",
       "team1                  0\n",
       "team2                  0\n",
       "stage                  0\n",
       "toss_winner            0\n",
       "toss_decision          0\n",
       "first_ings_score       0\n",
       "first_ings_wkts        0\n",
       "second_ings_score      0\n",
       "second_ings_wkts       0\n",
       "match_winner           0\n",
       "won_by                 0\n",
       "margin                 0\n",
       "player_of_the_match    0\n",
       "top_scorer             0\n",
       "highscore              0\n",
       "best_bowling           0\n",
       "best_bowling_figure    0\n",
       "dtype: int64"
      ]
     },
     "execution_count": 7,
     "metadata": {},
     "output_type": "execute_result"
    }
   ],
   "source": [
    "df.isna().sum()"
   ]
  },
  {
   "cell_type": "markdown",
   "id": "6df94d29-47db-4454-8949-9cc5f9c626ab",
   "metadata": {},
   "source": [
    "Now, Here comes some Basic Questions"
   ]
  },
  {
   "cell_type": "markdown",
   "id": "315257dd-8542-44d9-8f5b-e98016dff3f1",
   "metadata": {},
   "source": [
    "1. Which team won the most matches?"
   ]
  },
  {
   "cell_type": "code",
   "execution_count": 8,
   "id": "4befd04d-0ee7-40aa-b441-04bdadb3acc9",
   "metadata": {},
   "outputs": [
    {
     "data": {
      "text/plain": [
       "match_winner\n",
       "Gujarat      12\n",
       "Rajasthan    10\n",
       "Banglore      9\n",
       "Lucknow       9\n",
       "Punjab        7\n",
       "Delhi         7\n",
       "Kolkata       6\n",
       "Hyderabad     6\n",
       "Chennai       4\n",
       "Mumbai        4\n",
       "Name: count, dtype: int64"
      ]
     },
     "execution_count": 8,
     "metadata": {},
     "output_type": "execute_result"
    }
   ],
   "source": [
    "match_wins = df[\"match_winner\"].value_counts()\n",
    "match_wins"
   ]
  },
  {
   "cell_type": "code",
   "execution_count": 9,
   "id": "bee75305-5c85-4134-9724-e2f60b192197",
   "metadata": {},
   "outputs": [
    {
     "data": {
      "text/plain": [
       "Text(0.5, 1.0, 'Most match win by team')"
      ]
     },
     "execution_count": 9,
     "metadata": {},
     "output_type": "execute_result"
    },
    {
     "data": {
      "image/png": "[encoded data removed]",
      "text/plain": [
       "<Figure size 640x480 with 1 Axes>"
      ]
     },
     "metadata": {},
     "output_type": "display_data"
    }
   ],
   "source": [
    "sns.barplot(x = match_wins.values, y = match_wins.index, palette = \"rainbow\")\n",
    "plt.title(\"Most match win by team\")"
   ]
  },
  {
   "cell_type": "markdown",
   "id": "84b28427-3308-4828-9c05-bfbac32afda2",
   "metadata": {},
   "source": [
    "2. Toss Decision Trends"
   ]
  },
  {
   "cell_type": "code",
   "execution_count": 10,
   "id": "3f67a740-a6b3-4779-99b3-171286d49e1f",
   "metadata": {},
   "outputs": [
    {
     "data": {
      "text/plain": [
       "Text(0.5, 1.0, 'Toss Decision Trends')"
      ]
     },
     "execution_count": 10,
     "metadata": {},
     "output_type": "execute_result"
    },
    {
     "data": {
      "image/png": "[encoded data removed]",
      "text/plain": [
       "<Figure size 640x480 with 1 Axes>"
      ]
     },
     "metadata": {},
     "output_type": "display_data"
    }
   ],
   "source": [
    "sns.countplot(x = \"toss_decision\",data = df, palette = \"viridis\")\n",
    "plt.title(\"Toss Decision Trends\")"
   ]
  },
  {
   "cell_type": "markdown",
   "id": "65883c8e-163b-48a8-87f2-0c29289a2d60",
   "metadata": {},
   "source": [
    "3. Toss Winner VS Match Winner"
   ]
  },
  {
   "cell_type": "code",
   "execution_count": 11,
   "id": "8685a9d5-abcb-4ef4-aca8-60650d85e309",
   "metadata": {},
   "outputs": [
    {
     "data": {
      "text/plain": [
       "np.float64(48.65)"
      ]
     },
     "execution_count": 11,
     "metadata": {},
     "output_type": "execute_result"
    }
   ],
   "source": [
    "count = df[df['toss_winner'] == df['match_winner']]['match_id'].count()\n",
    "percentage = (count *100)/df.shape[0]\n",
    "percentage.round(2) # only 2 number will be shown after the decimal points"
   ]
  },
  {
   "cell_type": "markdown",
   "id": "8cbd8511-c5db-42a6-b5e5-98df374af918",
   "metadata": {},
   "source": [
    "4. How do teams win? (Runs vs Wickets)"
   ]
  },
  {
   "cell_type": "code",
   "execution_count": 12,
   "id": "4ce25fe1-87a3-45b0-9b03-c20f48d60fb0",
   "metadata": {},
   "outputs": [
    {
     "data": {
      "text/plain": [
       "Text(0.5, 1.0, 'Won by')"
      ]
     },
     "execution_count": 12,
     "metadata": {},
     "output_type": "execute_result"
    },
    {
     "data": {
      "image/png": "[encoded data removed]",
      "text/plain": [
       "<Figure size 640x480 with 1 Axes>"
      ]
     },
     "metadata": {},
     "output_type": "display_data"
    }
   ],
   "source": [
    "sns.countplot(x = \"won_by\", data = df, palette = \"pastel\")\n",
    "plt.title(\"Won by\")"
   ]
  },
  {
   "cell_type": "markdown",
   "id": "855828a2-40b1-4f99-889a-f6792a7a7f72",
   "metadata": {},
   "source": [
    "# Key Player Performances"
   ]
  },
  {
   "cell_type": "markdown",
   "id": "2f891173-8b4c-4a44-b66c-cd03e5204bbe",
   "metadata": {},
   "source": [
    "10 Most \"Player of the Match\" Awards"
   ]
  },
  {
   "cell_type": "code",
   "execution_count": 13,
   "id": "e4ed2d00-078c-41d7-8d34-1c37ad8ba5a2",
   "metadata": {},
   "outputs": [
    {
     "data": {
      "text/plain": [
       "player_of_the_match\n",
       "Kuldeep Yadav        4\n",
       "Jos Buttler          3\n",
       "Wanindu Hasaranga    2\n",
       "Umesh Yadav          2\n",
       "Quinton de Kock      2\n",
       "Shubman Gill         2\n",
       "Avesh Khan           2\n",
       "Dinesh Karthik       2\n",
       "Hardik Pandya        2\n",
       "Rahul Tripathi       2\n",
       "Name: count, dtype: int64"
      ]
     },
     "execution_count": 13,
     "metadata": {},
     "output_type": "execute_result"
    }
   ],
   "source": [
    "counts = df[\"player_of_the_match\"].value_counts().head(10)\n",
    "counts\n"
   ]
  },
  {
   "cell_type": "code",
   "execution_count": 14,
   "id": "a20cb9d8-e60d-4532-8d43-1510f7684794",
   "metadata": {},
   "outputs": [
    {
     "data": {
      "text/plain": [
       "Text(0.5, 1.0, 'Top 10 most awarded players of the match')"
      ]
     },
     "execution_count": 14,
     "metadata": {},
     "output_type": "execute_result"
    },
    {
     "data": {
      "image/png": "[encoded data removed]",
      "text/plain": [
       "<Figure size 640x480 with 1 Axes>"
      ]
     },
     "metadata": {},
     "output_type": "display_data"
    }
   ],
   "source": [
    "sns.barplot(y = counts.index, x = counts.values, palette = \"seismic\")\n",
    "plt.title(\"Top 10 most awarded players of the match\")"
   ]
  },
  {
   "cell_type": "markdown",
   "id": "5e267ae2-02bb-480e-b7c1-f746794a5fe0",
   "metadata": {},
   "source": [
    "2 Top Scorers"
   ]
  },
  {
   "cell_type": "code",
   "execution_count": 15,
   "id": "52efc49d-2f97-4721-bc8f-67e86371e5a8",
   "metadata": {},
   "outputs": [
    {
     "data": {
      "text/plain": [
       "top_scorer\n",
       "Jos Buttler        651\n",
       "Quinton de Kock    377\n",
       "Name: highscore, dtype: int64"
      ]
     },
     "execution_count": 15,
     "metadata": {},
     "output_type": "execute_result"
    }
   ],
   "source": [
    "high = df.groupby(\"top_scorer\")[\"highscore\"].sum().sort_values(ascending=False).head(2)\n",
    "high"
   ]
  },
  {
   "cell_type": "code",
   "execution_count": 16,
   "id": "84cb5767-7d41-4fe0-8b6d-725881c340ef",
   "metadata": {},
   "outputs": [
    {
     "data": {
      "text/plain": [
       "<Axes: ylabel='top_scorer'>"
      ]
     },
     "execution_count": 16,
     "metadata": {},
     "output_type": "execute_result"
    },
    {
     "data": {
      "image/png": "[encoded data removed]",
      "text/plain": [
       "<Figure size 640x480 with 1 Axes>"
      ]
     },
     "metadata": {},
     "output_type": "display_data"
    }
   ],
   "source": [
    "high.plot(kind = 'barh')"
   ]
  },
  {
   "cell_type": "markdown",
   "id": "dc431261-c080-425b-82ba-8318a74d1d19",
   "metadata": {},
   "source": [
    "10 Best Bowling Figures"
   ]
  },
  {
   "cell_type": "code",
   "execution_count": 17,
   "id": "c06bd872-0e55-4aa3-ab96-24e8ff5cf953",
   "metadata": {},
   "outputs": [
    {
     "data": {
      "text/plain": [
       "best_bowling_figure\n",
       "3--22    5\n",
       "3--25    3\n",
       "3--20    3\n",
       "2--24    3\n",
       "2--23    3\n",
       "3--17    2\n",
       "4--28    2\n",
       "4--24    2\n",
       "4--20    2\n",
       "4--30    2\n",
       "Name: count, dtype: int64"
      ]
     },
     "execution_count": 17,
     "metadata": {},
     "output_type": "execute_result"
    }
   ],
   "source": [
    "df[\"best_bowling_figure\"].value_counts().head(10)"
   ]
  },
  {
   "cell_type": "markdown",
   "id": "810f034d-8e46-444f-bdbf-9d47200174be",
   "metadata": {},
   "source": [
    "10 Best Bowling Figures"
   ]
  },
  {
   "cell_type": "code",
   "execution_count": 22,
   "id": "3a928364-67fe-459c-b9f4-2f51176b62f5",
   "metadata": {},
   "outputs": [
    {
     "data": {
      "text/plain": [
       "best_bowling\n",
       "Yuzvendra Chahal     17\n",
       "Jasprit Bumrah       11\n",
       "Kuldeep Yadav        11\n",
       "Rashid Khan          11\n",
       "Josh Hazlewood       10\n",
       "Kagiso Rabada        10\n",
       "Avesh Khan           10\n",
       "Umran Malik           9\n",
       "Wanindu Hasaranga     9\n",
       "T Natarajan           8\n",
       "Name: highest_wickets, dtype: int64"
      ]
     },
     "execution_count": 22,
     "metadata": {},
     "output_type": "execute_result"
    }
   ],
   "source": [
    "df['highest_wickets'] = df['best_bowling_figure'].apply(lambda x :x.split('--')[0])\n",
    "df['highest_wickets'] = df['highest_wickets'].astype(int)\n",
    "top_bowlers = df.groupby('best_bowling')['highest_wickets'].sum().sort_values(ascending=False).head(10)\n",
    "top_bowlers"
   ]
  },
  {
   "cell_type": "code",
   "execution_count": 19,
   "id": "353f688f-8318-403a-bfaa-647b6899ff6f",
   "metadata": {},
   "outputs": [
    {
     "data": {
      "text/plain": [
       "<Axes: ylabel='best_bowling'>"
      ]
     },
     "execution_count": 19,
     "metadata": {},
     "output_type": "execute_result"
    },
    {
     "data": {
      "image/png": "[encoded data removed]",
      "text/plain": [
       "<Figure size 640x480 with 1 Axes>"
      ]
     },
     "metadata": {},
     "output_type": "display_data"
    }
   ],
   "source": [
    "top_bowlers.plot(kind = 'barh')"
   ]
  },
  {
   "cell_type": "markdown",
   "id": "b3f2b347-8821-4a6a-97d0-d1eb014bc698",
   "metadata": {},
   "source": [
    "Venue Analysis"
   ]
  },
  {
   "cell_type": "markdown",
   "id": "b9aa7ff9-e564-4659-9e71-d0d558d6b7b2",
   "metadata": {},
   "source": [
    "Most Matches Played by Venue"
   ]
  },
  {
   "cell_type": "code",
   "execution_count": 23,
   "id": "ae2fbfec-e49e-4db6-a8d7-471a6af07687",
   "metadata": {},
   "outputs": [
    {
     "data": {
      "text/plain": [
       "venue\n",
       "Wankhede Stadium, Mumbai                        21\n",
       "Dr DY Patil Sports Academy, Mumbai              20\n",
       "Brabourne Stadium, Mumbai                       16\n",
       "Maharashtra Cricket Association Stadium,Pune    13\n",
       "Eden Gardens, Kolkata                            2\n",
       "Narendra Modi Stadium, Ahmedabad                 2\n",
       "Name: count, dtype: int64"
      ]
     },
     "execution_count": 23,
     "metadata": {},
     "output_type": "execute_result"
    }
   ],
   "source": [
    "venue_count = df['venue'].value_counts()\n",
    "venue_count"
   ]
  },
  {
   "cell_type": "code",
   "execution_count": 26,
   "id": "1336ee61-e0a6-4916-bae4-3f00cdbeedac",
   "metadata": {},
   "outputs": [
    {
     "data": {
      "text/plain": [
       "<Axes: ylabel='venue'>"
      ]
     },
     "execution_count": 26,
     "metadata": {},
     "output_type": "execute_result"
    },
    {
     "data": {
      "image/png": "[encoded data removed]",
      "text/plain": [
       "<Figure size 640x480 with 1 Axes>"
      ]
     },
     "metadata": {},
     "output_type": "display_data"
    }
   ],
   "source": [
    "sns.barplot(y = venue_count.index,x = venue_count.values,palette = \"rainbow\")"
   ]
  },
  {
   "cell_type": "markdown",
   "id": "3bc6e1f8-bafb-44e8-b734-c2fee995258e",
   "metadata": {},
   "source": [
    "## Custom Questions & Insights"
   ]
  },
  {
   "cell_type": "markdown",
   "id": "560b648e-32f7-4dc0-8b08-eee736a45e99",
   "metadata": {},
   "source": [
    "Q1: Who won the highest margin by runs?"
   ]
  },
  {
   "cell_type": "code",
   "execution_count": 27,
   "id": "2fd89d58-276d-440c-ad05-0ac0e36ef16e",
   "metadata": {},
   "outputs": [
    {
     "data": {
      "text/html": [
       "<div>\n",
       "<style scoped>\n",
       "    .dataframe tbody tr th:only-of-type {\n",
       "        vertical-align: middle;\n",
       "    }\n",
       "\n",
       "    .dataframe tbody tr th {\n",
       "        vertical-align: top;\n",
       "    }\n",
       "\n",
       "    .dataframe thead th {\n",
       "        text-align: right;\n",
       "    }\n",
       "</style>\n",
       "<table border=\"1\" class=\"dataframe\">\n",
       "  <thead>\n",
       "    <tr style=\"text-align: right;\">\n",
       "      <th></th>\n",
       "      <th>match_winner</th>\n",
       "      <th>margin</th>\n",
       "    </tr>\n",
       "  </thead>\n",
       "  <tbody>\n",
       "    <tr>\n",
       "      <th>54</th>\n",
       "      <td>Chennai</td>\n",
       "      <td>91</td>\n",
       "    </tr>\n",
       "  </tbody>\n",
       "</table>\n",
       "</div>"
      ],
      "text/plain": [
       "   match_winner  margin\n",
       "54      Chennai      91"
      ]
     },
     "execution_count": 27,
     "metadata": {},
     "output_type": "execute_result"
    }
   ],
   "source": [
    "df[df['won_by'] == 'Runs'].sort_values(by = 'margin',ascending=False).head(1)[['match_winner','margin']]"
   ]
  },
  {
   "cell_type": "markdown",
   "id": "238dcdbf-9ccc-4d12-8ff5-b6e07ccf64df",
   "metadata": {},
   "source": [
    "Q2: Which player had the highest individual score?"
   ]
  },
  {
   "cell_type": "code",
   "execution_count": 28,
   "id": "06030566-abd0-497d-8afc-a9b990c5f533",
   "metadata": {},
   "outputs": [
    {
     "data": {
      "text/html": [
       "<div>\n",
       "<style scoped>\n",
       "    .dataframe tbody tr th:only-of-type {\n",
       "        vertical-align: middle;\n",
       "    }\n",
       "\n",
       "    .dataframe tbody tr th {\n",
       "        vertical-align: top;\n",
       "    }\n",
       "\n",
       "    .dataframe thead th {\n",
       "        text-align: right;\n",
       "    }\n",
       "</style>\n",
       "<table border=\"1\" class=\"dataframe\">\n",
       "  <thead>\n",
       "    <tr style=\"text-align: right;\">\n",
       "      <th></th>\n",
       "      <th>top_scorer</th>\n",
       "      <th>highscore</th>\n",
       "    </tr>\n",
       "  </thead>\n",
       "  <tbody>\n",
       "    <tr>\n",
       "      <th>65</th>\n",
       "      <td>Quinton de Kock</td>\n",
       "      <td>140</td>\n",
       "    </tr>\n",
       "  </tbody>\n",
       "</table>\n",
       "</div>"
      ],
      "text/plain": [
       "         top_scorer  highscore\n",
       "65  Quinton de Kock        140"
      ]
     },
     "execution_count": 28,
     "metadata": {},
     "output_type": "execute_result"
    }
   ],
   "source": [
    "df[df['highscore'] == df['highscore'].max()][['top_scorer','highscore']]"
   ]
  },
  {
   "cell_type": "markdown",
   "id": "8d77ba62-a387-4338-a84c-d1857da7c33e",
   "metadata": {},
   "source": [
    "Q3: Which bowler had the best bowling figures?"
   ]
  },
  {
   "cell_type": "code",
   "execution_count": 30,
   "id": "db5792d9-6b8c-4399-a918-38f2723248a9",
   "metadata": {},
   "outputs": [
    {
     "data": {
      "text/html": [
       "<div>\n",
       "<style scoped>\n",
       "    .dataframe tbody tr th:only-of-type {\n",
       "        vertical-align: middle;\n",
       "    }\n",
       "\n",
       "    .dataframe tbody tr th {\n",
       "        vertical-align: top;\n",
       "    }\n",
       "\n",
       "    .dataframe thead th {\n",
       "        text-align: right;\n",
       "    }\n",
       "</style>\n",
       "<table border=\"1\" class=\"dataframe\">\n",
       "  <thead>\n",
       "    <tr style=\"text-align: right;\">\n",
       "      <th></th>\n",
       "      <th>best_bowling</th>\n",
       "      <th>best_bowling_figure</th>\n",
       "    </tr>\n",
       "  </thead>\n",
       "  <tbody>\n",
       "    <tr>\n",
       "      <th>29</th>\n",
       "      <td>Yuzvendra Chahal</td>\n",
       "      <td>5--40</td>\n",
       "    </tr>\n",
       "    <tr>\n",
       "      <th>39</th>\n",
       "      <td>Umran Malik</td>\n",
       "      <td>5--25</td>\n",
       "    </tr>\n",
       "    <tr>\n",
       "      <th>53</th>\n",
       "      <td>Wanindu Hasaranga</td>\n",
       "      <td>5--18</td>\n",
       "    </tr>\n",
       "    <tr>\n",
       "      <th>55</th>\n",
       "      <td>Jasprit Bumrah</td>\n",
       "      <td>5--10</td>\n",
       "    </tr>\n",
       "  </tbody>\n",
       "</table>\n",
       "</div>"
      ],
      "text/plain": [
       "         best_bowling best_bowling_figure\n",
       "29   Yuzvendra Chahal               5--40\n",
       "39        Umran Malik               5--25\n",
       "53  Wanindu Hasaranga               5--18\n",
       "55     Jasprit Bumrah               5--10"
      ]
     },
     "execution_count": 30,
     "metadata": {},
     "output_type": "execute_result"
    }
   ],
   "source": [
    "df[df['highest_wickets'] == df['highest_wickets'].max()][['best_bowling','best_bowling_figure']]"
   ]
  }
 ],
 "metadata": {
  "kernelspec": {
   "display_name": "Python 3 (ipykernel)",
   "language": "python",
   "name": "python3"
  },
  "language_info": {
   "codemirror_mode": {
    "name": "ipython",
    "version": 3
   },
   "file_extension": ".py",
   "mimetype": "text/x-python",
   "name": "python",
   "nbconvert_exporter": "python",
   "pygments_lexer": "ipython3",
   "version": "3.13.0"
  }
 },
 "nbformat": 4,
 "nbformat_minor": 5
}
